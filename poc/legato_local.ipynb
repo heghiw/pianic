{
  "cells": [
    {
      "cell_type": "markdown",
      "metadata": {},
      "source": [
        "# 🎹 Legato Local Transcription Notebook\n",
        "\n",
        "This notebook runs Basic Pitch locally using ONNX backend to transcribe piano audio into MIDI and extract note info.\n",
        "\n",
        "✅ No Colab restarts\n",
        "✅ Compatible with numpy 1.24.4\n",
        "✅ Works offline"
      ]
    },
    {
      "cell_type": "code",
      "execution_count": null,
      "metadata": {},
      "outputs": [],
      "source": [
        "# 📦 Prerequisites (install in terminal):\n",
        "#python -m pip install --upgrade pip setuptools wheel\n",
        "#pip install numpy==1.24.4 basic-pitch[onnx]==0.4.0 pretty_midi librosa soundfile\n"
      ]
    },
    {
      "cell_type": "code",
      "execution_count": 20,
      "metadata": {},
      "outputs": [
        {
          "name": "stdout",
          "output_type": "stream",
          "text": [
            "\n",
            "Predicting MIDI for C:\\Users\\thegr\\Downloads\\pianic\\test_interleaved.wav...\n",
            "\n",
            "\n",
            "  Creating midi...\n",
            "  💅 Saved to C:\\Users\\thegr\\Downloads\\pianic\\output2\\test_interleaved_basic_pitch.mid\n"
          ]
        }
      ],
      "source": [
        "from basic_pitch.inference import predict_and_save\n",
        "from basic_pitch import ICASSP_2022_MODEL_PATH\n",
        "from pathlib import Path\n",
        "import os\n",
        "\n",
        "audio_path = r\"C:\\Users\\thegr\\Downloads\\pianic\\test_interleaved.wav\"\n",
        "output_dir = r\"C:\\Users\\thegr\\Downloads\\pianic\\output2\"\n",
        "os.makedirs(output_dir, exist_ok=True)\n",
        "\n",
        "predict_and_save(\n",
        "    [audio_path],\n",
        "    output_dir,\n",
        "    True,   # save_midi\n",
        "    False,  # sonify_midi\n",
        "    False,  # save_model_outputs\n",
        "    False,  # save_notes\n",
        "    ICASSP_2022_MODEL_PATH  # <--- FIXED: full ONNX model path\n",
        ")\n",
        "\n"
      ]
    },
    {
      "cell_type": "code",
      "execution_count": 21,
      "metadata": {},
      "outputs": [
        {
          "data": {
            "text/html": [
              "<div>\n",
              "<style scoped>\n",
              "    .dataframe tbody tr th:only-of-type {\n",
              "        vertical-align: middle;\n",
              "    }\n",
              "\n",
              "    .dataframe tbody tr th {\n",
              "        vertical-align: top;\n",
              "    }\n",
              "\n",
              "    .dataframe thead th {\n",
              "        text-align: right;\n",
              "    }\n",
              "</style>\n",
              "<table border=\"1\" class=\"dataframe\">\n",
              "  <thead>\n",
              "    <tr style=\"text-align: right;\">\n",
              "      <th></th>\n",
              "      <th>pitch</th>\n",
              "      <th>start</th>\n",
              "      <th>end</th>\n",
              "      <th>duration</th>\n",
              "      <th>velocity</th>\n",
              "      <th>hand</th>\n",
              "    </tr>\n",
              "  </thead>\n",
              "  <tbody>\n",
              "    <tr>\n",
              "      <th>0</th>\n",
              "      <td>48</td>\n",
              "      <td>0.023</td>\n",
              "      <td>0.384</td>\n",
              "      <td>0.361</td>\n",
              "      <td>59</td>\n",
              "      <td>left</td>\n",
              "    </tr>\n",
              "    <tr>\n",
              "      <th>1</th>\n",
              "      <td>60</td>\n",
              "      <td>0.209</td>\n",
              "      <td>0.407</td>\n",
              "      <td>0.198</td>\n",
              "      <td>63</td>\n",
              "      <td>right</td>\n",
              "    </tr>\n",
              "    <tr>\n",
              "      <th>2</th>\n",
              "      <td>50</td>\n",
              "      <td>0.639</td>\n",
              "      <td>0.814</td>\n",
              "      <td>0.175</td>\n",
              "      <td>53</td>\n",
              "      <td>left</td>\n",
              "    </tr>\n",
              "    <tr>\n",
              "      <th>3</th>\n",
              "      <td>48</td>\n",
              "      <td>0.384</td>\n",
              "      <td>0.825</td>\n",
              "      <td>0.441</td>\n",
              "      <td>68</td>\n",
              "      <td>left</td>\n",
              "    </tr>\n",
              "    <tr>\n",
              "      <th>4</th>\n",
              "      <td>50</td>\n",
              "      <td>0.825</td>\n",
              "      <td>1.218</td>\n",
              "      <td>0.393</td>\n",
              "      <td>55</td>\n",
              "      <td>left</td>\n",
              "    </tr>\n",
              "  </tbody>\n",
              "</table>\n",
              "</div>"
            ],
            "text/plain": [
              "   pitch  start    end  duration  velocity   hand\n",
              "0     48  0.023  0.384     0.361        59   left\n",
              "1     60  0.209  0.407     0.198        63  right\n",
              "2     50  0.639  0.814     0.175        53   left\n",
              "3     48  0.384  0.825     0.441        68   left\n",
              "4     50  0.825  1.218     0.393        55   left"
            ]
          },
          "execution_count": 21,
          "metadata": {},
          "output_type": "execute_result"
        }
      ],
      "source": [
        "# 🎼 Parse MIDI to DataFrame\n",
        "import pretty_midi\n",
        "import pandas as pd\n",
        "from pathlib import Path\n",
        "midi_file = os.path.join(output_dir, Path(audio_path).stem + \"_basic_pitch.mid\")\n",
        "midi = pretty_midi.PrettyMIDI(midi_file)\n",
        "\n",
        "notes = []\n",
        "for inst in midi.instruments:\n",
        "    for n in inst.notes:\n",
        "        notes.append({\n",
        "            \"pitch\": n.pitch,\n",
        "            \"start\": round(n.start, 3),\n",
        "            \"end\": round(n.end, 3),\n",
        "            \"duration\": round(n.end - n.start, 3),\n",
        "            \"velocity\": n.velocity,\n",
        "            \"hand\": \"left\" if n.pitch < 60 else \"right\"\n",
        "        })\n",
        "\n",
        "df = pd.DataFrame(notes)\n",
        "df.head()"
      ]
    },
    {
      "cell_type": "code",
      "execution_count": 23,
      "metadata": {},
      "outputs": [
        {
          "data": {
            "text/html": [
              "<div>\n",
              "<style scoped>\n",
              "    .dataframe tbody tr th:only-of-type {\n",
              "        vertical-align: middle;\n",
              "    }\n",
              "\n",
              "    .dataframe tbody tr th {\n",
              "        vertical-align: top;\n",
              "    }\n",
              "\n",
              "    .dataframe thead th {\n",
              "        text-align: right;\n",
              "    }\n",
              "</style>\n",
              "<table border=\"1\" class=\"dataframe\">\n",
              "  <thead>\n",
              "    <tr style=\"text-align: right;\">\n",
              "      <th></th>\n",
              "      <th>pitch</th>\n",
              "      <th>note_name</th>\n",
              "      <th>start</th>\n",
              "      <th>end</th>\n",
              "      <th>hand</th>\n",
              "    </tr>\n",
              "  </thead>\n",
              "  <tbody>\n",
              "    <tr>\n",
              "      <th>0</th>\n",
              "      <td>48</td>\n",
              "      <td>C3</td>\n",
              "      <td>0.023</td>\n",
              "      <td>0.384</td>\n",
              "      <td>left</td>\n",
              "    </tr>\n",
              "    <tr>\n",
              "      <th>1</th>\n",
              "      <td>60</td>\n",
              "      <td>C4</td>\n",
              "      <td>0.209</td>\n",
              "      <td>0.407</td>\n",
              "      <td>right</td>\n",
              "    </tr>\n",
              "    <tr>\n",
              "      <th>2</th>\n",
              "      <td>50</td>\n",
              "      <td>D3</td>\n",
              "      <td>0.639</td>\n",
              "      <td>0.814</td>\n",
              "      <td>left</td>\n",
              "    </tr>\n",
              "    <tr>\n",
              "      <th>3</th>\n",
              "      <td>48</td>\n",
              "      <td>C3</td>\n",
              "      <td>0.384</td>\n",
              "      <td>0.825</td>\n",
              "      <td>left</td>\n",
              "    </tr>\n",
              "    <tr>\n",
              "      <th>4</th>\n",
              "      <td>50</td>\n",
              "      <td>D3</td>\n",
              "      <td>0.825</td>\n",
              "      <td>1.218</td>\n",
              "      <td>left</td>\n",
              "    </tr>\n",
              "  </tbody>\n",
              "</table>\n",
              "</div>"
            ],
            "text/plain": [
              "   pitch note_name  start    end   hand\n",
              "0     48        C3  0.023  0.384   left\n",
              "1     60        C4  0.209  0.407  right\n",
              "2     50        D3  0.639  0.814   left\n",
              "3     48        C3  0.384  0.825   left\n",
              "4     50        D3  0.825  1.218   left"
            ]
          },
          "execution_count": 23,
          "metadata": {},
          "output_type": "execute_result"
        }
      ],
      "source": [
        "import pretty_midi\n",
        "\n",
        "df[\"note_name\"] = df[\"pitch\"].apply(pretty_midi.note_number_to_name)\n",
        "df[[\"pitch\", \"note_name\", \"start\", \"end\", \"hand\"]].head()\n"
      ]
    },
    {
      "cell_type": "code",
      "execution_count": 24,
      "metadata": {},
      "outputs": [],
      "source": [
        "def highlight_chords(df):\n",
        "    df_sorted = df.sort_values(by=\"start\").reset_index(drop=True)\n",
        "    df_sorted[\"is_chord\"] = False\n",
        "\n",
        "    for i in range(1, len(df_sorted)):\n",
        "        if abs(df_sorted.loc[i, \"start\"] - df_sorted.loc[i - 1, \"start\"]) < 0.05:\n",
        "            df_sorted.loc[i, \"is_chord\"] = True\n",
        "            df_sorted.loc[i - 1, \"is_chord\"] = True\n",
        "\n",
        "    return df_sorted\n",
        "\n",
        "df = highlight_chords(df)\n"
      ]
    },
    {
      "cell_type": "code",
      "execution_count": 25,
      "metadata": {},
      "outputs": [
        {
          "data": {
            "image/png": "[encoded data removed]",
            "text/plain": [
              "<Figure size 1400x600 with 1 Axes>"
            ]
          },
          "metadata": {
            "image/png": {
              "height": 546,
              "width": 1165
            }
          },
          "output_type": "display_data"
        }
      ],
      "source": [
        "def plot_with_chords(df, title=\"Piano Roll with Chords\"):\n",
        "    import matplotlib.pyplot as plt\n",
        "\n",
        "    fig, ax = plt.subplots(figsize=(14, 6))\n",
        "\n",
        "    for _, note in df.iterrows():\n",
        "        if note['is_chord']:\n",
        "            color = 'red'\n",
        "        else:\n",
        "            color = 'blue' if note['hand'] == 'left' else 'green'\n",
        "        ax.broken_barh(\n",
        "            [(note['start'], note['duration'])],\n",
        "            (note['pitch'] - 0.4, 0.8),\n",
        "            facecolors=color\n",
        "        )\n",
        "        ax.text(\n",
        "            note['start'] + note['duration'] / 2,\n",
        "            note['pitch'],\n",
        "            note['note_name'],\n",
        "            color='white',\n",
        "            ha='center',\n",
        "            va='center',\n",
        "            fontsize=8\n",
        "        )\n",
        "\n",
        "    ax.set_xlabel(\"Time (s)\")\n",
        "    ax.set_ylabel(\"MIDI Pitch\")\n",
        "    ax.set_title(title)\n",
        "    ax.set_ylim(df['pitch'].min() - 1, df['pitch'].max() + 1)\n",
        "    ax.grid(True)\n",
        "    plt.show()\n",
        "\n",
        "plot_with_chords(df)\n"
      ]
    },
    {
      "cell_type": "code",
      "execution_count": 26,
      "metadata": {},
      "outputs": [
        {
          "name": "stdout",
          "output_type": "stream",
          "text": [
            "Requirement already satisfied: music21 in c:\\users\\thegr\\downloads\\pianic\\.venv\\lib\\site-packages (9.5.0)\n",
            "Requirement already satisfied: chardet in c:\\users\\thegr\\downloads\\pianic\\.venv\\lib\\site-packages (from music21) (5.2.0)\n",
            "Requirement already satisfied: joblib in c:\\users\\thegr\\downloads\\pianic\\.venv\\lib\\site-packages (from music21) (1.5.0)\n",
            "Requirement already satisfied: jsonpickle in c:\\users\\thegr\\downloads\\pianic\\.venv\\lib\\site-packages (from music21) (4.0.5)\n",
            "Requirement already satisfied: matplotlib in c:\\users\\thegr\\downloads\\pianic\\.venv\\lib\\site-packages (from music21) (3.7.3)\n",
            "Requirement already satisfied: more-itertools in c:\\users\\thegr\\downloads\\pianic\\.venv\\lib\\site-packages (from music21) (10.7.0)\n",
            "Requirement already satisfied: numpy<2.0.0 in c:\\users\\thegr\\downloads\\pianic\\.venv\\lib\\site-packages (from music21) (1.24.4)\n",
            "Requirement already satisfied: requests in c:\\users\\thegr\\downloads\\pianic\\.venv\\lib\\site-packages (from music21) (2.32.3)\n",
            "Requirement already satisfied: webcolors>=1.5 in c:\\users\\thegr\\downloads\\pianic\\.venv\\lib\\site-packages (from music21) (24.11.1)\n",
            "Requirement already satisfied: contourpy>=1.0.1 in c:\\users\\thegr\\downloads\\pianic\\.venv\\lib\\site-packages (from matplotlib->music21) (1.3.2)\n",
            "Requirement already satisfied: cycler>=0.10 in c:\\users\\thegr\\downloads\\pianic\\.venv\\lib\\site-packages (from matplotlib->music21) (0.12.1)\n",
            "Requirement already satisfied: fonttools>=4.22.0 in c:\\users\\thegr\\downloads\\pianic\\.venv\\lib\\site-packages (from matplotlib->music21) (4.57.0)\n",
            "Requirement already satisfied: kiwisolver>=1.0.1 in c:\\users\\thegr\\downloads\\pianic\\.venv\\lib\\site-packages (from matplotlib->music21) (1.4.8)\n",
            "Requirement already satisfied: packaging>=20.0 in c:\\users\\thegr\\downloads\\pianic\\.venv\\lib\\site-packages (from matplotlib->music21) (25.0)\n",
            "Requirement already satisfied: pillow>=6.2.0 in c:\\users\\thegr\\downloads\\pianic\\.venv\\lib\\site-packages (from matplotlib->music21) (11.2.1)\n",
            "Requirement already satisfied: pyparsing>=2.3.1 in c:\\users\\thegr\\downloads\\pianic\\.venv\\lib\\site-packages (from matplotlib->music21) (3.2.3)\n",
            "Requirement already satisfied: python-dateutil>=2.7 in c:\\users\\thegr\\downloads\\pianic\\.venv\\lib\\site-packages (from matplotlib->music21) (2.9.0.post0)\n",
            "Requirement already satisfied: six>=1.5 in c:\\users\\thegr\\downloads\\pianic\\.venv\\lib\\site-packages (from python-dateutil>=2.7->matplotlib->music21) (1.17.0)\n",
            "Requirement already satisfied: charset-normalizer<4,>=2 in c:\\users\\thegr\\downloads\\pianic\\.venv\\lib\\site-packages (from requests->music21) (3.4.2)\n",
            "Requirement already satisfied: idna<4,>=2.5 in c:\\users\\thegr\\downloads\\pianic\\.venv\\lib\\site-packages (from requests->music21) (3.10)\n",
            "Requirement already satisfied: urllib3<3,>=1.21.1 in c:\\users\\thegr\\downloads\\pianic\\.venv\\lib\\site-packages (from requests->music21) (2.4.0)\n",
            "Requirement already satisfied: certifi>=2017.4.17 in c:\\users\\thegr\\downloads\\pianic\\.venv\\lib\\site-packages (from requests->music21) (2025.4.26)\n",
            "Note: you may need to restart the kernel to use updated packages.\n"
          ]
        }
      ],
      "source": [
        "pip install music21\n"
      ]
    },
    {
      "cell_type": "code",
      "execution_count": 27,
      "metadata": {},
      "outputs": [
        {
          "name": "stdout",
          "output_type": "stream",
          "text": [
            "{0.0} <music21.note.Note C>\n",
            "{0.361} <music21.note.Note C>\n",
            "{0.559} <music21.note.Note C>\n",
            "{1.0} <music21.note.Note D>\n",
            "{1.175} <music21.note.Note D>\n",
            "{1.568} <music21.note.Note E>\n",
            "{1.848} <music21.note.Note E>\n",
            "{2.057} <music21.note.Note F>\n",
            "{2.23} <music21.note.Note F>\n",
            "{2.616} <music21.note.Note G>\n",
            "{3.28} <music21.note.Note G>\n",
            "{3.478} <music21.note.Note G>\n"
          ]
        }
      ],
      "source": [
        "from music21 import stream, note, midi\n",
        "\n",
        "score = stream.Stream()\n",
        "\n",
        "for _, row in df.iterrows():\n",
        "    n = note.Note(row['note_name'])\n",
        "    n.offset = row['start']\n",
        "    n.quarterLength = row['duration']\n",
        "    n.volume.velocity = row['velocity']\n",
        "    score.append(n)\n",
        "\n",
        "score.show('text')        # simple console preview\n",
        "# score.show()            # opens in MuseScore / Finale if installed\n",
        "# score.write('midi', fp='output/music21_export.mid')\n"
      ]
    }
  ],
  "metadata": {
    "kernelspec": {
      "display_name": ".venv",
      "language": "python",
      "name": "python3"
    },
    "language_info": {
      "codemirror_mode": {
        "name": "ipython",
        "version": 3
      },
      "file_extension": ".py",
      "mimetype": "text/x-python",
      "name": "python",
      "nbconvert_exporter": "python",
      "pygments_lexer": "ipython3",
      "version": "3.10.0"
    }
  },
  "nbformat": 4,
  "nbformat_minor": 2
}
